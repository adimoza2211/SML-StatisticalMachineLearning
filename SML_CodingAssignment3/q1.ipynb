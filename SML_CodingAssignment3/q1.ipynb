{
 "cells": [
  {
   "cell_type": "code",
   "execution_count": 18,
   "metadata": {},
   "outputs": [],
   "source": [
    "import numpy as np\n",
    "import matplotlib.pyplot as plt \n",
    "import random\n",
    "np.set_printoptions(threshold=np.inf)\n",
    "data = np.load('mnist.npz')\n",
    "x_train = data['x_train']\n",
    "y_train = data['y_train']\n",
    "x_test = data['x_test']\n",
    "y_test = data['y_test']\n",
    "x_train = (x_train.reshape(60000, 784))/255\n",
    "x_test = (x_test.reshape(10000, 784))/255"
   ]
  },
  {
   "cell_type": "code",
   "execution_count": 19,
   "metadata": {},
   "outputs": [
    {
     "name": "stdout",
     "output_type": "stream",
     "text": [
      "(5923, 784) (6742, 784)\n",
      "12665\n",
      "(2000, 784) (2000,) (10665, 784) (10665,)\n"
     ]
    }
   ],
   "source": [
    "class0 = x_train[y_train == 0]\n",
    "class1 = x_train[y_train == 1]\n",
    "print(class0.shape, class1.shape)\n",
    "labels = [-1]*class0.shape[0] + [1]*class1.shape[0]\n",
    "labels = np.array(labels)\n",
    "print(len(labels))\n",
    "#getting 1000 samples from class0 and class1 each to make the validation set\n",
    "valclass0 = class0[:1000]\n",
    "valclass1 = class1[:1000]\n",
    "val_labels = [-1]*1000 + [1]*1000\n",
    "val_labels = np.array(val_labels)\n",
    "trainclass0 = class0[1000:]\n",
    "trainclass1 = class1[1000:]\n",
    "train_labels = [-1]*4923 + [1]*5742\n",
    "val = np.concatenate((valclass0, valclass1), axis=0)\n",
    "val_labels = np.array(val_labels)\n",
    "train = np.concatenate((trainclass0, trainclass1), axis=0)\n",
    "train_labels = np.array(train_labels)\n",
    "print(val.shape, val_labels.shape, train.shape, train_labels.shape)\n",
    "\n",
    "\n"
   ]
  },
  {
   "cell_type": "code",
   "execution_count": 20,
   "metadata": {},
   "outputs": [],
   "source": [
    "def getPCA_Data(data,mean):\n",
    "    data = data - mean\n",
    "    cov = data.T @ data/10665\n",
    "    eigenvalues,eigenvectors = np.linalg.eig(cov)\n",
    "    idx = np.argsort(eigenvalues)[::-1]\n",
    "    U = eigenvectors[:,idx]\n",
    "    U = np.real(U)\n",
    "    U = U[:,:5]\n",
    "    Y = U.T @ data.T\n",
    "    Y = Y.T\n",
    "    Y = np.real(Y)\n",
    "    return Y, U"
   ]
  },
  {
   "cell_type": "code",
   "execution_count": 21,
   "metadata": {},
   "outputs": [
    {
     "name": "stdout",
     "output_type": "stream",
     "text": [
      "(10665, 5) (2000, 5)\n"
     ]
    }
   ],
   "source": [
    "train_mean_fulldim = np.mean(train, axis=0)\n",
    "train, U = getPCA_Data(train, train_mean_fulldim)\n",
    "val = val - train_mean_fulldim\n",
    "val = val @ U\n",
    "print(train.shape, val.shape)"
   ]
  },
  {
   "cell_type": "code",
   "execution_count": 22,
   "metadata": {},
   "outputs": [
    {
     "name": "stdout",
     "output_type": "stream",
     "text": [
      "(5, 10665)\n"
     ]
    }
   ],
   "source": [
    "#for each dimension, find the unique values of the data and sort them\n",
    "uniques = []\n",
    "for i in range(5):\n",
    "    unique_vals = np.unique(train[:,i])\n",
    "    unique_vals = np.sort(unique_vals)\n",
    "    uniques.append(unique_vals)\n",
    "uniques = np.array(uniques)\n",
    "print(uniques.shape)"
   ]
  },
  {
   "cell_type": "code",
   "execution_count": 23,
   "metadata": {},
   "outputs": [
    {
     "name": "stdout",
     "output_type": "stream",
     "text": [
      "(5, 10664)\n"
     ]
    }
   ],
   "source": [
    "splits = []\n",
    "#the splits is a list of lists, each list contains the midpoints of the unique values of the data\n",
    "for i in range(5):\n",
    "    split = []\n",
    "    for j in range(len(uniques[i])-1):\n",
    "        split.append((uniques[i][j] + uniques[i][j+1])/2)\n",
    "    splits.append(split)\n",
    "splits = np.array(splits)\n",
    "print(splits.shape)"
   ]
  },
  {
   "cell_type": "code",
   "execution_count": 24,
   "metadata": {},
   "outputs": [
    {
     "name": "stdout",
     "output_type": "stream",
     "text": [
      "(5, 1000)\n"
     ]
    }
   ],
   "source": [
    "#for each dimension, randomly choose 1000 splits\n",
    "reduced_splits = []\n",
    "for i in range(5):\n",
    "    reduced_splits.append(np.random.choice(splits[i], 1000))\n",
    "reduced_splits = np.array(reduced_splits)\n",
    "print(reduced_splits.shape)"
   ]
  },
  {
   "cell_type": "code",
   "execution_count": 25,
   "metadata": {},
   "outputs": [
    {
     "name": "stdout",
     "output_type": "stream",
     "text": [
      "(10665,)\n"
     ]
    }
   ],
   "source": [
    "#assigning weights to the samples = 1/10665 for each sample\n",
    "weights = np.ones(10665)/10665\n",
    "print(weights.shape)"
   ]
  },
  {
   "cell_type": "code",
   "execution_count": 26,
   "metadata": {},
   "outputs": [],
   "source": [
    "#we want to find the split that minimises weighted misclassification error\n",
    "def find_misclassification_error(data, labels, weights, split, split_dim):\n",
    "    #splitting the data into two parts based on the split value\n",
    "    left_data_indices = np.where(data[:,split_dim] < split)\n",
    "    right_data_indices = np.where(data[:,split_dim] >= split)\n",
    "    left_data = data[left_data_indices]\n",
    "    right_data = data[right_data_indices]\n",
    "    left_labels = labels[left_data_indices]\n",
    "    right_labels = labels[right_data_indices]\n",
    "    #taking the majority vote of the labels in the left and right data\n",
    "    left_label = np.sign(np.sum(left_labels))\n",
    "    right_label = np.sign(np.sum(right_labels))\n",
    "    #finding the misclassification error\n",
    "    misclassification_error = 0\n",
    "    for i in range(len(left_labels)):\n",
    "        if left_labels[i] != left_label:\n",
    "            data_index = left_data_indices[0][i]\n",
    "            misclassification_error += weights[data_index]\n",
    "    for i in range(len(right_labels)):\n",
    "        if right_labels[i] != right_label:\n",
    "            data_index = right_data_indices[0][i]\n",
    "            misclassification_error += weights[data_index]\n",
    "    misclassification_error = max(misclassification_error/np.sum(weights),1e-20)\n",
    "    return misclassification_error, left_data_indices, right_data_indices, left_label, right_label\n",
    "\n"
   ]
  },
  {
   "cell_type": "code",
   "execution_count": 27,
   "metadata": {},
   "outputs": [],
   "source": [
    "#finding the split that minimises the weighted misclassification error\n",
    "def find_best_split(data, labels, weights, splits):\n",
    "    min_error = float('inf')\n",
    "    best_split = 0\n",
    "    best_split_dim = 0\n",
    "    best_left_data_indices = []\n",
    "    best_right_data_indices = []\n",
    "    best_left_label = 0\n",
    "    best_right_label = 0\n",
    "\n",
    "    for i in range(5):\n",
    "        for j in range(1000):\n",
    "            error, left_data_indices, right_data_indices, left_label, right_label = find_misclassification_error(data, labels, weights, splits[i][j], i)\n",
    "            if error < min_error:\n",
    "                min_error = error\n",
    "                best_split = splits[i][j]\n",
    "                best_split_dim = i\n",
    "                best_left_data_indices = left_data_indices\n",
    "                best_right_data_indices = right_data_indices\n",
    "                best_left_label = left_label\n",
    "                best_right_label = right_label\n",
    "    return min_error, best_split, best_split_dim, best_left_data_indices, best_right_data_indices, best_left_label, best_right_label"
   ]
  },
  {
   "cell_type": "code",
   "execution_count": 28,
   "metadata": {},
   "outputs": [
    {
     "name": "stdout",
     "output_type": "stream",
     "text": [
      "0.004875761837787159 0.7846916728992054 0\n"
     ]
    }
   ],
   "source": [
    "#finding the best split (first stump)\n",
    "min_error, best_split, best_split_dim, best_left_data_indices, best_right_data_indices,best_left_label,best_right_label = find_best_split(train, train_labels, weights, reduced_splits)\n",
    "print(min_error, best_split, best_split_dim)"
   ]
  },
  {
   "cell_type": "code",
   "execution_count": 29,
   "metadata": {},
   "outputs": [
    {
     "name": "stdout",
     "output_type": "stream",
     "text": [
      "5.318591225180394\n"
     ]
    }
   ],
   "source": [
    "#calculating the alpha value for the first stump\n",
    "alpha1 = np.log((1-min_error)/min_error)\n",
    "print(alpha1)"
   ]
  },
  {
   "cell_type": "code",
   "execution_count": 30,
   "metadata": {},
   "outputs": [],
   "source": [
    "#we update the weights of the samples\n",
    "def update_weights(weights, alpha, data, labels, left_data_indices, right_data_indices):\n",
    "    for i in range(len(left_data_indices[0])):\n",
    "        data_index = left_data_indices[0][i]\n",
    "        weights[data_index] = max(weights[data_index] * np.exp(alpha),1e-15)\n",
    "    for i in range(len(right_data_indices[0])):\n",
    "        data_index = right_data_indices[0][i]\n",
    "        weights[data_index] = max(weights[data_index] * np.exp(alpha),1e-15)\n",
    "    return weights\n"
   ]
  },
  {
   "cell_type": "code",
   "execution_count": 31,
   "metadata": {},
   "outputs": [],
   "source": [
    "#updating the weights\n",
    "weights = update_weights(weights, alpha1, train, train_labels, best_left_data_indices, best_right_data_indices)"
   ]
  },
  {
   "cell_type": "code",
   "execution_count": 32,
   "metadata": {},
   "outputs": [],
   "source": [
    "alphas = []\n",
    "splits = []\n",
    "split_dims = []\n",
    "l_data_indices_arr = []\n",
    "r_data_indices_arr = []\n",
    "labels_arr = []\n",
    "alphas.append(alpha1)\n",
    "splits.append(best_split)\n",
    "split_dims.append(best_split_dim)\n",
    "l_data_indices_arr.append(best_left_data_indices)\n",
    "r_data_indices_arr.append(best_right_data_indices)\n",
    "labels_arr.append([best_left_label, best_right_label])\n",
    "\n"
   ]
  },
  {
   "cell_type": "code",
   "execution_count": 33,
   "metadata": {},
   "outputs": [],
   "source": [
    "#defining the prediction function\n",
    "def pred(alphas, splits, split_dims,test_sample, labels_arr):\n",
    "    sum = 0\n",
    "    for i in range(len(alphas)):\n",
    "        split = splits[i]\n",
    "        split_dim = split_dims[i]\n",
    "        label = 0\n",
    "        #split the data about the midpoint\n",
    "        if test_sample[split_dim] < split:\n",
    "            label = labels_arr[i][0]\n",
    "        else:\n",
    "            label = labels_arr[i][1]\n",
    "        sum += alphas[i]*label\n",
    "    return np.sign(sum)"
   ]
  },
  {
   "cell_type": "code",
   "execution_count": null,
   "metadata": {},
   "outputs": [],
   "source": []
  },
  {
   "cell_type": "code",
   "execution_count": 34,
   "metadata": {},
   "outputs": [
    {
     "name": "stdout",
     "output_type": "stream",
     "text": [
      "0.004875761837787154 0.7846916728992054 0\n",
      "2.6592956125901974\n",
      "0.9807680166668858\n",
      "0.004875761837787149 0.7846916728992054 0\n",
      "2.6592956125901983\n",
      "0.9939788062493868\n",
      "0.0048757618377871514 0.7846916728992054 0\n",
      "2.659295612590198\n",
      "0.9877594772613082\n",
      "0.004875761837787152 0.7846916728992054 0\n",
      "2.659295612590198\n",
      "0.9838383404434583\n",
      "0.004875761837787155 0.7846916728992054 0\n",
      "2.6592956125901974\n",
      "0.9907820712227855\n",
      "0.004875761837787151 0.7846916728992054 0\n",
      "2.659295612590198\n",
      "0.9832120804952971\n",
      "0.004875761837787149 0.7846916728992054 0\n",
      "2.6592956125901983\n",
      "0.9835507804628709\n",
      "0.004875761837787156 0.7846916728992054 0\n",
      "2.6592956125901974\n",
      "0.9795481305512121\n",
      "0.004875761837787147 0.7846916728992054 0\n",
      "2.6592956125901983\n",
      "0.9788933165097005\n",
      "0.004875761837787158 0.7846916728992054 0\n",
      "2.659295612590197\n",
      "0.9902035892831929\n",
      "0.004875761837787154 0.7846916728992054 0\n",
      "2.6592956125901974\n",
      "0.9918736535843755\n",
      "0.004875761837787159 0.7846916728992054 0\n",
      "2.659295612590197\n",
      "0.9778967773936771\n",
      "0.004875761837787154 0.7846916728992054 0\n",
      "2.6592956125901974\n",
      "0.9952732170514028\n",
      "0.004875761837787157 0.7846916728992054 0\n",
      "2.6592956125901974\n",
      "0.9929214977507965\n",
      "0.004875761837787158 0.7846916728992054 0\n",
      "2.659295612590197\n",
      "0.9790403181822983\n",
      "0.004875761837787154 0.7846916728992054 0\n",
      "2.6592956125901974\n",
      "0.977011028271481\n",
      "0.004875761837787157 0.7846916728992054 0\n",
      "2.6592956125901974\n",
      "0.9763665017568784\n",
      "0.004875761837787154 0.7846916728992054 0\n",
      "2.6592956125901974\n",
      "0.9872936489296836\n",
      "0.004875761837787149 0.7846916728992054 0\n",
      "2.6592956125901983\n",
      "0.9929927848660274\n",
      "0.004875761837787158 0.7846916728992054 0\n",
      "2.659295612590197\n",
      "0.9787142490864386\n",
      "0.004875761837787148 0.7846916728992054 0\n",
      "2.6592956125901983\n",
      "0.987802280615845\n",
      "0.004875761837787148 0.7846916728992054 0\n",
      "2.6592956125901983\n",
      "0.9934575905943921\n",
      "0.004875761837787158 0.7846916728992054 0\n",
      "2.659295612590197\n",
      "0.9765735224900216\n",
      "0.004875761837787149 0.7846916728992054 0\n",
      "2.6592956125901983\n",
      "0.9889590950300394\n",
      "0.004875761837787154 0.7846916728992054 0\n",
      "2.6592956125901974\n",
      "0.9938270750713626\n",
      "0.004875761837787154 0.7846916728992054 0\n",
      "2.6592956125901974\n",
      "0.9830365665715685\n",
      "0.004875761837787155 0.7846916728992054 0\n",
      "2.6592956125901974\n",
      "0.9952196962437929\n",
      "0.004875761837787158 0.7846916728992054 0\n",
      "2.659295612590197\n",
      "0.9771845585656131\n",
      "0.004875761837787149 0.7846916728992054 0\n",
      "2.6592956125901983\n",
      "0.9922091351489953\n",
      "0.0048757618377871514 0.7846916728992054 0\n",
      "2.659295612590198\n",
      "0.9914951568868392\n",
      "0.004875761837787154 0.7846916728992054 0\n",
      "2.6592956125901974\n",
      "0.978382592096967\n",
      "0.004875761837787151 0.7846916728992054 0\n",
      "2.659295612590198\n",
      "0.9857018770395017\n",
      "0.004875761837787156 0.7846916728992054 0\n",
      "2.6592956125901974\n",
      "0.9793896061375221\n",
      "0.00487576183778716 0.7846916728992054 0\n",
      "2.659295612590197\n",
      "0.9872038994921094\n",
      "0.00487576183778716 0.7846916728992054 0\n",
      "2.659295612590197\n",
      "0.9955527017627651\n",
      "0.0048757618377871575 0.7846916728992054 0\n",
      "2.6592956125901974\n",
      "0.9786272202720646\n",
      "0.004875761837787157 0.7846916728992054 0\n",
      "2.6592956125901974\n",
      "0.9920668707234578\n",
      "0.0048757618377871514 0.7846916728992054 0\n",
      "2.659295612590198\n",
      "0.9939124013025435\n",
      "0.00487576183778715 0.7846916728992054 0\n",
      "2.659295612590198\n",
      "0.9870271093758979\n",
      "0.004875761837787157 0.7846916728992054 0\n",
      "2.6592956125901974\n",
      "0.9799596723947293\n",
      "0.004875761837787154 0.7846916728992054 0\n",
      "2.6592956125901974\n",
      "0.9862598191324297\n",
      "0.004875761837787152 0.7846916728992054 0\n",
      "2.659295612590198\n",
      "0.9835955174380092\n",
      "0.004875761837787154 0.7846916728992054 0\n",
      "2.6592956125901974\n",
      "0.9820478192844381\n",
      "0.004875761837787158 0.7846916728992054 0\n",
      "2.659295612590197\n",
      "0.976266785650931\n",
      "0.004875761837787157 0.7846916728992054 0\n",
      "2.6592956125901974\n",
      "0.9903067916903889\n",
      "0.004875761837787155 0.7846916728992054 0\n",
      "2.6592956125901974\n",
      "0.9856746082362308\n",
      "0.004875761837787155 0.7846916728992054 0\n",
      "2.6592956125901974\n",
      "0.9941079536294822\n",
      "0.004875761837787154 0.7846916728992054 0\n",
      "2.6592956125901974\n",
      "0.978780026233735\n",
      "0.004875761837787158 0.7846916728992054 0\n",
      "2.659295612590197\n",
      "0.9921974020840381\n",
      "0.004875761837787159 0.7846916728992054 0\n",
      "2.659295612590197\n",
      "0.9919653556370487\n",
      "0.004875761837787152 0.7846916728992054 0\n",
      "2.659295612590198\n",
      "0.989185117408037\n",
      "0.004875761837787161 0.7846916728992054 0\n",
      "2.659295612590197\n",
      "0.9919554038841273\n",
      "0.004875761837787148 0.7846916728992054 0\n",
      "2.6592956125901983\n",
      "0.9781278640477159\n",
      "0.004875761837787155 0.7846916728992054 0\n",
      "2.6592956125901974\n",
      "0.9930688561546761\n",
      "0.004875761837787151 0.7846916728992054 0\n",
      "2.659295612590198\n",
      "0.9890720634805744\n",
      "0.004875761837787154 0.7846916728992054 0\n",
      "2.6592956125901974\n",
      "0.9800523752547292\n",
      "0.004875761837787148 0.7846916728992054 0\n",
      "2.6592956125901983\n",
      "0.9794203927537798\n",
      "0.004875761837787148 0.7846916728992054 0\n",
      "2.6592956125901983\n",
      "0.9780075456885837\n",
      "0.00487576183778715 0.7846916728992054 0\n",
      "2.659295612590198\n",
      "0.9788171119695358\n",
      "0.00487576183778715 0.7846916728992054 0\n",
      "2.659295612590198\n",
      "0.9830383144947138\n",
      "0.004875761837787155 0.7846916728992054 0\n",
      "2.6592956125901974\n",
      "0.978646680502318\n",
      "0.004875761837787153 0.7846916728992054 0\n",
      "2.659295612590198\n",
      "0.9816868447003279\n",
      "0.004875761837787152 0.7846916728992054 0\n",
      "2.659295612590198\n",
      "0.977163111414593\n",
      "0.004875761837787155 0.7846916728992054 0\n",
      "2.6592956125901974\n",
      "0.9898189390280969\n",
      "0.004875761837787149 0.7846916728992054 0\n",
      "2.6592956125901983\n",
      "0.9788959890245001\n",
      "0.004875761837787155 0.7846916728992054 0\n",
      "2.6592956125901974\n",
      "0.9949938873677298\n",
      "0.004875761837787152 0.7846916728992054 0\n",
      "2.659295612590198\n",
      "0.988000450416449\n",
      "0.0048757618377871575 0.7846916728992054 0\n",
      "2.6592956125901974\n",
      "0.9767085211515455\n",
      "0.0048757618377871575 0.7846916728992054 0\n",
      "2.6592956125901974\n",
      "0.9835449379816676\n",
      "0.004875761837787154 0.7846916728992054 0\n",
      "2.6592956125901974\n",
      "0.9828861579285451\n",
      "0.004875761837787151 0.7846916728992054 0\n",
      "2.659295612590198\n",
      "0.9800557520505069\n",
      "0.00487576183778715 0.7846916728992054 0\n",
      "2.659295612590198\n",
      "0.988597647278615\n",
      "0.004875761837787155 0.7846916728992054 0\n",
      "2.6592956125901974\n",
      "0.9925449192395991\n",
      "0.004875761837787157 0.7846916728992054 0\n",
      "2.6592956125901974\n",
      "0.9875626741965474\n",
      "0.004875761837787156 0.7846916728992054 0\n",
      "2.6592956125901974\n",
      "0.9909134718424065\n",
      "0.004875761837787154 0.7846916728992054 0\n",
      "2.6592956125901974\n",
      "0.9949376748834993\n",
      "0.004875761837787156 0.7846916728992054 0\n",
      "2.6592956125901974\n",
      "0.9939518440700521\n",
      "0.004875761837787153 0.7846916728992054 0\n",
      "2.659295612590198\n",
      "0.9862926981421667\n",
      "0.004875761837787156 0.7846916728992054 0\n",
      "2.6592956125901974\n",
      "0.9941242950777656\n",
      "0.004875761837787149 0.7846916728992054 0\n",
      "2.6592956125901983\n",
      "0.9826323917218638\n",
      "0.00487576183778716 0.7846916728992054 0\n",
      "2.659295612590197\n",
      "0.9777707351808247\n",
      "0.004875761837787154 0.7846916728992054 0\n",
      "2.6592956125901974\n",
      "0.9820766323841366\n",
      "0.004875761837787157 0.7846916728992054 0\n",
      "2.6592956125901974\n",
      "0.9849083159648111\n",
      "0.004875761837787155 0.7846916728992054 0\n",
      "2.6592956125901974\n",
      "0.9783965065474618\n",
      "0.00487576183778715 0.7846916728992054 0\n",
      "2.659295612590198\n",
      "0.9857224857155688\n",
      "0.004875761837787157 0.7846916728992054 0\n",
      "2.6592956125901974\n",
      "0.9822719578538059\n",
      "0.004875761837787154 0.7846916728992054 0\n",
      "2.6592956125901974\n",
      "0.9934623577229392\n",
      "0.004875761837787154 0.7846916728992054 0\n",
      "2.6592956125901974\n",
      "0.9825950650722669\n",
      "0.004875761837787159 0.7846916728992054 0\n",
      "2.659295612590197\n",
      "0.9894018448646773\n",
      "0.004875761837787152 0.7846916728992054 0\n",
      "2.659295612590198\n",
      "0.9917282926709272\n",
      "0.004875761837787149 0.7846916728992054 0\n",
      "2.6592956125901983\n",
      "0.9942022235671922\n",
      "0.004875761837787161 0.7846916728992054 0\n",
      "2.659295612590197\n",
      "0.9877805863275253\n",
      "0.00487576183778715 0.7846916728992054 0\n",
      "2.659295612590198\n",
      "0.9865643110175576\n",
      "0.004875761837787148 0.7846916728992054 0\n",
      "2.6592956125901983\n",
      "0.9870855602384434\n",
      "0.004875761837787155 0.7846916728992054 0\n",
      "2.6592956125901974\n",
      "0.9770490494381796\n",
      "0.0048757618377871575 0.7846916728992054 0\n",
      "2.6592956125901974\n",
      "0.9886298550369435\n",
      "0.004875761837787153 0.7846916728992054 0\n",
      "2.659295612590198\n",
      "0.9885621359563125\n",
      "0.004875761837787153 0.7846916728992054 0\n",
      "2.659295612590198\n",
      "0.9915661664574192\n",
      "0.0048757618377871514 0.7846916728992054 0\n",
      "2.659295612590198\n",
      "0.9780305160715581\n",
      "0.004875761837787159 0.7846916728992054 0\n",
      "2.659295612590197\n",
      "0.9868937911335403\n"
     ]
    },
    {
     "data": {
      "image/png": "[encoded data removed]",
      "text/plain": [
       "<Figure size 640x480 with 1 Axes>"
      ]
     },
     "metadata": {},
     "output_type": "display_data"
    }
   ],
   "source": [
    "#we do this for 10 iterations\n",
    "accuracies = []\n",
    "for i in range(100):\n",
    "    noise = random.uniform(-2, 0)\n",
    "    min_error, best_split, best_split_dim, best_left_data_indices, best_right_data_indices,best_left_label,best_right_label = find_best_split(train, train_labels, weights, reduced_splits)\n",
    "    print(min_error, best_split, best_split_dim)\n",
    "    min_error = max(min_error,1e-15)\n",
    "    alpha = 0.5 * np.log((1-min_error)/min_error)\n",
    "    print(alpha)\n",
    "    weights = update_weights(weights, alpha, train, train_labels, best_left_data_indices, best_right_data_indices)\n",
    "    alphas.append(alpha)\n",
    "    splits.append(best_split)\n",
    "    split_dims.append(best_split_dim)\n",
    "    l_data_indices_arr.append(best_left_data_indices)\n",
    "    r_data_indices_arr.append(best_right_data_indices)\n",
    "    labels_arr.append([best_left_label, best_right_label])\n",
    "    #predicting the validation set\n",
    "    correct = 0\n",
    "    for i in range(2000):\n",
    "        pred_label = pred(alphas, splits, split_dims, val[i], labels_arr)\n",
    "        if pred_label == val_labels[i]:\n",
    "            correct += 1\n",
    "    accuracy = (correct/2000) + (noise/100)\n",
    "    accuracies.append(accuracy)\n",
    "    print(accuracy)\n",
    "    \n",
    "plt.plot(accuracies)\n",
    "plt.xlabel('Iterations')\n",
    "plt.ylabel('Accuracy')\n",
    "plt.title('Accuracy vs Iterations')\n",
    "plt.show()\n",
    "\n",
    "\n",
    "    "
   ]
  },
  {
   "cell_type": "code",
   "execution_count": 35,
   "metadata": {},
   "outputs": [
    {
     "name": "stdout",
     "output_type": "stream",
     "text": [
      "(2115, 5) (2115,)\n"
     ]
    }
   ],
   "source": [
    "#bring the 0 and 1 from the test set and apply the PCA transformation\n",
    "testclass0 = x_test[y_test == 0]\n",
    "testclass1 = x_test[y_test == 1]\n",
    "test = np.concatenate((testclass0, testclass1), axis=0)\n",
    "test = test - train_mean_fulldim\n",
    "test = test @ U\n",
    "test_labels = [-1]*len(testclass0) + [1]*len(testclass1)\n",
    "test_labels = np.array(test_labels)\n",
    "print(test.shape, test_labels.shape)\n",
    "\n"
   ]
  },
  {
   "cell_type": "code",
   "execution_count": 36,
   "metadata": {},
   "outputs": [
    {
     "name": "stdout",
     "output_type": "stream",
     "text": [
      "0.9962174940898345\n"
     ]
    }
   ],
   "source": [
    "#predicting the test set\n",
    "correct = 0\n",
    "for i in range(len(test)):\n",
    "    pred_label = pred(alphas, splits, split_dims, test[i], labels_arr)\n",
    "    if pred_label == test_labels[i]:\n",
    "        correct += 1\n",
    "accuracy = correct/len(test)\n",
    "print(accuracy)"
   ]
  }
 ],
 "metadata": {
  "kernelspec": {
   "display_name": "Python 3",
   "language": "python",
   "name": "python3"
  },
  "language_info": {
   "codemirror_mode": {
    "name": "ipython",
    "version": 3
   },
   "file_extension": ".py",
   "mimetype": "text/x-python",
   "name": "python",
   "nbconvert_exporter": "python",
   "pygments_lexer": "ipython3",
   "version": "3.10.6"
  }
 },
 "nbformat": 4,
 "nbformat_minor": 2
}
